{
 "cells": [
  {
   "cell_type": "markdown",
   "id": "b68256ba-4d54-4041-bf02-a0686c1f16ee",
   "metadata": {},
   "source": [
    "installing necessary packages"
   ]
  },
  {
   "cell_type": "code",
   "execution_count": 1,
   "id": "18e25115-ffe7-4d04-a78f-956f58048dc5",
   "metadata": {
    "scrolled": true
   },
   "outputs": [
    {
     "name": "stdout",
     "output_type": "stream",
     "text": [
      "Requirement already satisfied: langchain in c:\\users\\sadar\\.conda\\envs\\csv-llm-chat\\lib\\site-packages (0.1.13)\n",
      "Collecting langchain_openai\n",
      "  Downloading langchain_openai-0.1.0-py3-none-any.whl.metadata (2.5 kB)\n",
      "Collecting langchain_experimental\n",
      "  Using cached langchain_experimental-0.0.55-py3-none-any.whl.metadata (2.1 kB)\n"
     ]
    },
    {
     "name": "stderr",
     "output_type": "stream",
     "text": [
      "ERROR: Could not find a version that satisfies the requirement dotenv--user (from versions: none)\n",
      "ERROR: No matching distribution found for dotenv--user\n"
     ]
    }
   ],
   "source": [
    "!pip install langchain langchain_openai langchain_experimental --user"
   ]
  },
  {
   "cell_type": "code",
   "execution_count": 2,
   "id": "79c185ed-2492-4c9a-a8ef-c9accbbb7ab7",
   "metadata": {},
   "outputs": [
    {
     "data": {
      "text/plain": [
       "True"
      ]
     },
     "execution_count": 2,
     "metadata": {},
     "output_type": "execute_result"
    }
   ],
   "source": [
    "#Loading OpenAI API key\n",
    "from dotenv import load_dotenv\n",
    "load_dotenv()"
   ]
  },
  {
   "cell_type": "markdown",
   "id": "ff1c27d3-8814-4502-87e7-975a3e4cc958",
   "metadata": {},
   "source": [
    "## Data - Register of licensed sponsors by the UK Government \n",
    "https://www.gov.uk/government/publications/register-of-licensed-sponsors-workers"
   ]
  },
  {
   "cell_type": "markdown",
   "id": "78335da7-c5bc-4919-b880-92439966873a",
   "metadata": {},
   "source": [
    "Exploring the data the traditional way"
   ]
  },
  {
   "cell_type": "code",
   "execution_count": 3,
   "id": "b4abc7d3-a354-466c-b3ee-83865fa60e79",
   "metadata": {},
   "outputs": [],
   "source": [
    "import pandas as pd\n",
    "import pprint"
   ]
  },
  {
   "cell_type": "code",
   "execution_count": 4,
   "id": "8c25f63a-b798-4177-b7f0-850db86bf43c",
   "metadata": {},
   "outputs": [],
   "source": [
    "df = pd.read_csv('2024-03-20_-_Worker_and_Temporary_Worker.csv')"
   ]
  },
  {
   "cell_type": "code",
   "execution_count": 5,
   "id": "3c0c3457-4526-4626-b6e2-05a5c3dfd76f",
   "metadata": {},
   "outputs": [
    {
     "data": {
      "text/html": [
       "<div>\n",
       "<style scoped>\n",
       "    .dataframe tbody tr th:only-of-type {\n",
       "        vertical-align: middle;\n",
       "    }\n",
       "\n",
       "    .dataframe tbody tr th {\n",
       "        vertical-align: top;\n",
       "    }\n",
       "\n",
       "    .dataframe thead th {\n",
       "        text-align: right;\n",
       "    }\n",
       "</style>\n",
       "<table border=\"1\" class=\"dataframe\">\n",
       "  <thead>\n",
       "    <tr style=\"text-align: right;\">\n",
       "      <th></th>\n",
       "      <th>Organisation Name</th>\n",
       "      <th>Town/City</th>\n",
       "      <th>County</th>\n",
       "      <th>Type &amp; Rating</th>\n",
       "      <th>Route</th>\n",
       "    </tr>\n",
       "  </thead>\n",
       "  <tbody>\n",
       "    <tr>\n",
       "      <th>0</th>\n",
       "      <td>McMullan Shellfish</td>\n",
       "      <td>Ballymena</td>\n",
       "      <td>Co Antrim</td>\n",
       "      <td>Worker (A rating)</td>\n",
       "      <td>Skilled Worker</td>\n",
       "    </tr>\n",
       "    <tr>\n",
       "      <th>1</th>\n",
       "      <td>RSS EXPRESS LTD T/A  Ledbury Fuel Service Sta...</td>\n",
       "      <td>Ledbury</td>\n",
       "      <td>NaN</td>\n",
       "      <td>Worker (A rating)</td>\n",
       "      <td>Skilled Worker</td>\n",
       "    </tr>\n",
       "    <tr>\n",
       "      <th>2</th>\n",
       "      <td>(IECC Care) Independent Excel Care Consortium ...</td>\n",
       "      <td>Colchester</td>\n",
       "      <td>NaN</td>\n",
       "      <td>Worker (A rating)</td>\n",
       "      <td>Skilled Worker</td>\n",
       "    </tr>\n",
       "    <tr>\n",
       "      <th>3</th>\n",
       "      <td>*ABOUTCARE HASTINGS LTD</td>\n",
       "      <td>East Sussex</td>\n",
       "      <td>NaN</td>\n",
       "      <td>Worker (A rating)</td>\n",
       "      <td>Skilled Worker</td>\n",
       "    </tr>\n",
       "    <tr>\n",
       "      <th>4</th>\n",
       "      <td>???£ ESS LTD</td>\n",
       "      <td>Manchester</td>\n",
       "      <td>NaN</td>\n",
       "      <td>Worker (A rating)</td>\n",
       "      <td>Skilled Worker</td>\n",
       "    </tr>\n",
       "  </tbody>\n",
       "</table>\n",
       "</div>"
      ],
      "text/plain": [
       "                                   Organisation Name    Town/City     County  \\\n",
       "0                                 McMullan Shellfish    Ballymena  Co Antrim   \n",
       "1   RSS EXPRESS LTD T/A  Ledbury Fuel Service Sta...      Ledbury        NaN   \n",
       "2  (IECC Care) Independent Excel Care Consortium ...   Colchester        NaN   \n",
       "3                            *ABOUTCARE HASTINGS LTD  East Sussex        NaN   \n",
       "4                                       ???£ ESS LTD   Manchester        NaN   \n",
       "\n",
       "       Type & Rating           Route  \n",
       "0  Worker (A rating)  Skilled Worker  \n",
       "1  Worker (A rating)  Skilled Worker  \n",
       "2  Worker (A rating)  Skilled Worker  \n",
       "3  Worker (A rating)  Skilled Worker  \n",
       "4  Worker (A rating)  Skilled Worker  "
      ]
     },
     "execution_count": 5,
     "metadata": {},
     "output_type": "execute_result"
    }
   ],
   "source": [
    "df.head()"
   ]
  },
  {
   "cell_type": "code",
   "execution_count": 6,
   "id": "057e830c-990d-4068-8dbb-f24924c0b49e",
   "metadata": {},
   "outputs": [
    {
     "data": {
      "text/plain": [
       "array(['Skilled Worker', 'Creative Worker',\n",
       "       'Global Business Mobility: Senior or Specialist Worker',\n",
       "       'Charity Worker', 'Tier 2 Ministers of Religion',\n",
       "       'Global Business Mobility: UK Expansion Worker',\n",
       "       'Global Business Mobility: Graduate Trainee',\n",
       "       'International Sportsperson', 'Religious Worker',\n",
       "       'Government Authorised Exchange', 'International Agreement',\n",
       "       'Seasonal Worker', 'Global Business Mobility: Service Supplier',\n",
       "       'Scale-up', 'Global Business Mobility: Secondment Worker',\n",
       "       'Intra Company Transfers (ICT)', 'Intra-company Routes'],\n",
       "      dtype=object)"
      ]
     },
     "execution_count": 6,
     "metadata": {},
     "output_type": "execute_result"
    }
   ],
   "source": [
    "#Find types of routes\n",
    "df.Route.unique()"
   ]
  },
  {
   "cell_type": "code",
   "execution_count": 7,
   "id": "226f1ba7-5469-4f31-a5a3-1f31e052428a",
   "metadata": {},
   "outputs": [
    {
     "data": {
      "text/plain": [
       "Route\n",
       "Skilled Worker                                           89901\n",
       "Global Business Mobility: Senior or Specialist Worker     9566\n",
       "Tier 2 Ministers of Religion                              1523\n",
       "Creative Worker                                           1393\n",
       "Charity Worker                                            1219\n",
       "International Sportsperson                                1208\n",
       "Religious Worker                                          1188\n",
       "Global Business Mobility: Graduate Trainee                 602\n",
       "Global Business Mobility: UK Expansion Worker              352\n",
       "Government Authorised Exchange                             233\n",
       "International Agreement                                    137\n",
       "Scale-up                                                    51\n",
       "Global Business Mobility: Service Supplier                  19\n",
       "Seasonal Worker                                              7\n",
       "Global Business Mobility: Secondment Worker                  5\n",
       "Intra Company Transfers (ICT)                                1\n",
       "Intra-company Routes                                         1\n",
       "Name: count, dtype: int64"
      ]
     },
     "execution_count": 7,
     "metadata": {},
     "output_type": "execute_result"
    }
   ],
   "source": [
    "#Finding the count of each route\n",
    "df.Route.value_counts()"
   ]
  },
  {
   "cell_type": "markdown",
   "id": "326f6914-d0b5-48c4-8a34-e0b3c6804be5",
   "metadata": {},
   "source": [
    "### LLM powered data exploration"
   ]
  },
  {
   "cell_type": "code",
   "execution_count": 8,
   "id": "33db95b2-a869-4744-aac5-89edb89b9951",
   "metadata": {},
   "outputs": [],
   "source": [
    "from langchain_experimental.agents import create_csv_agent\n",
    "from langchain_openai import ChatOpenAI"
   ]
  },
  {
   "cell_type": "code",
   "execution_count": 9,
   "id": "94771801-dd54-4475-99ef-89ca2be53098",
   "metadata": {},
   "outputs": [],
   "source": [
    "llm = ChatOpenAI(temperature=0.5)"
   ]
  },
  {
   "cell_type": "code",
   "execution_count": 10,
   "id": "01f011b2-ca92-45de-90d7-a13245eb2670",
   "metadata": {},
   "outputs": [],
   "source": [
    "agentExecuter = create_csv_agent(llm, '2024-03-20_-_Worker_and_Temporary_Worker.csv', verbose=True)"
   ]
  },
  {
   "cell_type": "code",
   "execution_count": 11,
   "id": "7a80ea57-fd0a-491e-b09c-4ba4c6b12a79",
   "metadata": {},
   "outputs": [
    {
     "name": "stdout",
     "output_type": "stream",
     "text": [
      "\n",
      "\n",
      "\u001b[1m> Entering new AgentExecutor chain...\u001b[0m\n",
      "\u001b[32;1m\u001b[1;3mThought: We need to extract the unique values in the \"Route\" column of the dataframe.\n",
      "Action: Use the unique() function in pandas to get all unique values in the \"Route\" column.\n",
      "Action Input: df['Route'].unique()\u001b[0mUse the unique() function in pandas to get all unique values in the \"Route\" column. is not a valid tool, try one of [python_repl_ast].\u001b[32;1m\u001b[1;3mI should use the python_repl_ast tool to execute the command.\n",
      "Action: python_repl_ast\n",
      "Action Input: df['Route'].unique()\u001b[0m\u001b[36;1m\u001b[1;3m['Skilled Worker' 'Creative Worker'\n",
      " 'Global Business Mobility: Senior or Specialist Worker' 'Charity Worker'\n",
      " 'Tier 2 Ministers of Religion'\n",
      " 'Global Business Mobility: UK Expansion Worker'\n",
      " 'Global Business Mobility: Graduate Trainee' 'International Sportsperson'\n",
      " 'Religious Worker' 'Government Authorised Exchange'\n",
      " 'International Agreement' 'Seasonal Worker'\n",
      " 'Global Business Mobility: Service Supplier' 'Scale-up'\n",
      " 'Global Business Mobility: Secondment Worker'\n",
      " 'Intra Company Transfers (ICT)' 'Intra-company Routes']\u001b[0m\u001b[32;1m\u001b[1;3mI now know the final answer\n",
      "Final Answer: ['Skilled Worker', 'Creative Worker', 'Global Business Mobility: Senior or Specialist Worker', 'Charity Worker', 'Tier 2 Ministers of Religion', 'Global Business Mobility: UK Expansion Worker', 'Global Business Mobility: Graduate Trainee', 'International Sportsperson', 'Religious Worker', 'Government Authorised Exchange', 'International Agreement', 'Seasonal Worker', 'Global Business Mobility: Service Supplier', 'Scale-up', 'Global Business Mobility: Secondment Worker', 'Intra Company Transfers (ICT)', 'Intra-company Routes']\u001b[0m\n",
      "\n",
      "\u001b[1m> Finished chain.\u001b[0m\n"
     ]
    },
    {
     "data": {
      "text/plain": [
       "{'input': 'Find all the different types of routes',\n",
       " 'output': \"['Skilled Worker', 'Creative Worker', 'Global Business Mobility: Senior or Specialist Worker', 'Charity Worker', 'Tier 2 Ministers of Religion', 'Global Business Mobility: UK Expansion Worker', 'Global Business Mobility: Graduate Trainee', 'International Sportsperson', 'Religious Worker', 'Government Authorised Exchange', 'International Agreement', 'Seasonal Worker', 'Global Business Mobility: Service Supplier', 'Scale-up', 'Global Business Mobility: Secondment Worker', 'Intra Company Transfers (ICT)', 'Intra-company Routes']\"}"
      ]
     },
     "execution_count": 11,
     "metadata": {},
     "output_type": "execute_result"
    }
   ],
   "source": [
    "#Finding the different types of routes\n",
    "agentExecuter.invoke(\"Find all the different types of routes\")"
   ]
  },
  {
   "cell_type": "code",
   "execution_count": 12,
   "id": "9fa7790b-2778-436c-b780-ccd570327afc",
   "metadata": {},
   "outputs": [
    {
     "name": "stdout",
     "output_type": "stream",
     "text": [
      "\n",
      "\n",
      "\u001b[1m> Entering new AgentExecutor chain...\u001b[0m\n",
      "\u001b[32;1m\u001b[1;3mThought: We need to count the occurrences of each type of route in the 'Route' column of the dataframe.\n",
      "\n",
      "Action: Use the value_counts() function on the 'Route' column of the dataframe.\n",
      "Action Input: df['Route'].value_counts()\u001b[0mUse the value_counts() function on the 'Route' column of the dataframe. is not a valid tool, try one of [python_repl_ast].\u001b[32;1m\u001b[1;3mI should use the python_repl_ast tool to get the count of each type of route in the dataframe.\n",
      "\n",
      "Action: python_repl_ast\n",
      "Action Input: df['Route'].value_counts()\u001b[0m\u001b[36;1m\u001b[1;3mRoute\n",
      "Skilled Worker                                           89901\n",
      "Global Business Mobility: Senior or Specialist Worker     9566\n",
      "Tier 2 Ministers of Religion                              1523\n",
      "Creative Worker                                           1393\n",
      "Charity Worker                                            1219\n",
      "International Sportsperson                                1208\n",
      "Religious Worker                                          1188\n",
      "Global Business Mobility: Graduate Trainee                 602\n",
      "Global Business Mobility: UK Expansion Worker              352\n",
      "Government Authorised Exchange                             233\n",
      "International Agreement                                    137\n",
      "Scale-up                                                    51\n",
      "Global Business Mobility: Service Supplier                  19\n",
      "Seasonal Worker                                              7\n",
      "Global Business Mobility: Secondment Worker                  5\n",
      "Intra Company Transfers (ICT)                                1\n",
      "Intra-company Routes                                         1\n",
      "Name: count, dtype: int64\u001b[0m\u001b[32;1m\u001b[1;3mI now know the final answer.\n",
      "\n",
      "Final Answer: The count of each type of route in the dataframe is as follows:\n",
      "- Skilled Worker: 89901\n",
      "- Global Business Mobility: Senior or Specialist Worker: 9566\n",
      "- Tier 2 Ministers of Religion: 1523\n",
      "- Creative Worker: 1393\n",
      "- Charity Worker: 1219\n",
      "- International Sportsperson: 1208\n",
      "- Religious Worker: 1188\n",
      "- Global Business Mobility: Graduate Trainee: 602\n",
      "- Global Business Mobility: UK Expansion Worker: 352\n",
      "- Government Authorised Exchange: 233\n",
      "- International Agreement: 137\n",
      "- Scale-up: 51\n",
      "- Global Business Mobility: Service Supplier: 19\n",
      "- Seasonal Worker: 7\n",
      "- Global Business Mobility: Secondment Worker: 5\n",
      "- Intra Company Transfers (ICT): 1\n",
      "- Intra-company Routes: 1\u001b[0m\n",
      "\n",
      "\u001b[1m> Finished chain.\u001b[0m\n"
     ]
    },
    {
     "data": {
      "text/plain": [
       "{'input': 'Find the count of each type of route',\n",
       " 'output': 'The count of each type of route in the dataframe is as follows:\\n- Skilled Worker: 89901\\n- Global Business Mobility: Senior or Specialist Worker: 9566\\n- Tier 2 Ministers of Religion: 1523\\n- Creative Worker: 1393\\n- Charity Worker: 1219\\n- International Sportsperson: 1208\\n- Religious Worker: 1188\\n- Global Business Mobility: Graduate Trainee: 602\\n- Global Business Mobility: UK Expansion Worker: 352\\n- Government Authorised Exchange: 233\\n- International Agreement: 137\\n- Scale-up: 51\\n- Global Business Mobility: Service Supplier: 19\\n- Seasonal Worker: 7\\n- Global Business Mobility: Secondment Worker: 5\\n- Intra Company Transfers (ICT): 1\\n- Intra-company Routes: 1'}"
      ]
     },
     "execution_count": 12,
     "metadata": {},
     "output_type": "execute_result"
    }
   ],
   "source": [
    "#Finding the count of each type of route\n",
    "agentExecuter.invoke(\"Find the count of each type of route\")"
   ]
  },
  {
   "cell_type": "code",
   "execution_count": 26,
   "id": "3b955d8c-c90f-41b5-9159-a42efca46afd",
   "metadata": {},
   "outputs": [
    {
     "name": "stdout",
     "output_type": "stream",
     "text": [
      "\n",
      "\n",
      "\u001b[1m> Entering new AgentExecutor chain...\u001b[0m\n",
      "\u001b[32;1m\u001b[1;3mThought: We need to count the frequency of each route and then combine the smaller routes into an 'others' category before creating the pie chart.\n",
      "Action: python_repl_ast\n",
      "Action Input: df['Route'].value_counts()\u001b[0m\u001b[36;1m\u001b[1;3mRoute\n",
      "Skilled Worker                                           89901\n",
      "Global Business Mobility: Senior or Specialist Worker     9566\n",
      "Tier 2 Ministers of Religion                              1523\n",
      "Others                                                    1408\n",
      "Creative Worker                                           1393\n",
      "Charity Worker                                            1219\n",
      "International Sportsperson                                1208\n",
      "Religious Worker                                          1188\n",
      "Name: count, dtype: int64\u001b[0m\u001b[32;1m\u001b[1;3mWe have the frequency count of each route, now we can combine the smaller routes into an 'Others' category.\n",
      "Action: python_repl_ast\n",
      "Action Input: df['Route'].value_counts().loc[df['Route'].value_counts() < 1000].index\u001b[0m\u001b[36;1m\u001b[1;3mIndex([], dtype='object', name='Route')\u001b[0m\u001b[32;1m\u001b[1;3mThere are no routes with a frequency count of less than 1000, so we don't need to combine any into an 'Others' category.\n",
      "Action: python_repl_ast\n",
      "Action Input: df['Route'].value_counts().plot(kind='pie', autopct='%1.1f%%')\u001b[0m\u001b[36;1m\u001b[1;3mAxes(0.22375,0.11;0.5775x0.77)\u001b[0m\u001b[32;1m\u001b[1;3mWe have successfully created a pie chart showing the distribution of routes.\n",
      "Final Answer: The pie chart showing the distribution of routes is ready.\u001b[0m\n",
      "\n",
      "\u001b[1m> Finished chain.\u001b[0m\n"
     ]
    },
    {
     "data": {
      "text/plain": [
       "{'input': \"Create a piechart on type of routes, combine the smaller routes name it as 'others' for better readability \",\n",
       " 'output': 'The pie chart showing the distribution of routes is ready.'}"
      ]
     },
     "execution_count": 26,
     "metadata": {},
     "output_type": "execute_result"
    },
    {
     "data": {
      "image/png": "[encoded data removed]",
      "text/plain": [
       "<Figure size 640x480 with 1 Axes>"
      ]
     },
     "metadata": {},
     "output_type": "display_data"
    }
   ],
   "source": [
    "#Finding the count of each type of route\n",
    "agentExecuter.invoke(\"Create a piechart on type of routes, combine the smaller routes name it as 'others' for better readability \")"
   ]
  },
  {
   "cell_type": "code",
   "execution_count": 14,
   "id": "640f21e5-1437-47a9-a0eb-f633f831dfd8",
   "metadata": {},
   "outputs": [
    {
     "name": "stdout",
     "output_type": "stream",
     "text": [
      "\n",
      "\n",
      "\u001b[1m> Entering new AgentExecutor chain...\u001b[0m\n",
      "\u001b[32;1m\u001b[1;3mThought: To count the number of town/city entries that provide \"Global Business Mobility: Graduate Trainee\" from the Route column, we need to filter the dataframe based on these conditions and then count the unique town/city entries.\n",
      "\n",
      "Action: python_repl_ast\n",
      "Action Input: df[df['Route'] == 'Global Business Mobility: Graduate Trainee']['Town/City'].nunique()\u001b[0m\u001b[36;1m\u001b[1;3m231\u001b[0m\u001b[32;1m\u001b[1;3mI now know the final answer\n",
      "Final Answer: 231\u001b[0m\n",
      "\n",
      "\u001b[1m> Finished chain.\u001b[0m\n"
     ]
    },
    {
     "data": {
      "text/plain": [
       "{'input': 'Count of town/city provides Global Business Mobility: Graduate Trainee from Route',\n",
       " 'output': '231'}"
      ]
     },
     "execution_count": 14,
     "metadata": {},
     "output_type": "execute_result"
    }
   ],
   "source": [
    "#Finding the different types of routes\n",
    "agentExecuter.invoke(\"Count of town/city provides Global Business Mobility: Graduate Trainee from Route\")"
   ]
  },
  {
   "cell_type": "code",
   "execution_count": 15,
   "id": "ef17728e-1e3a-4a98-b44a-6a5e6f11919d",
   "metadata": {},
   "outputs": [
    {
     "name": "stdout",
     "output_type": "stream",
     "text": [
      "\n",
      "\n",
      "\u001b[1m> Entering new AgentExecutor chain...\u001b[0m\n",
      "\u001b[32;1m\u001b[1;3mThought: I need to filter the dataframe for rows where the Town/City is Colchester and then count the occurrences of each type of route.\n",
      "Action: python_repl_ast\n",
      "Action Input: df[df['Town/City'] == 'Colchester']['Route'].value_counts()\u001b[0m\u001b[36;1m\u001b[1;3mRoute\n",
      "Skilled Worker                                           176\n",
      "Global Business Mobility: Senior or Specialist Worker      6\n",
      "International Sportsperson                                 4\n",
      "Charity Worker                                             1\n",
      "Global Business Mobility: Graduate Trainee                 1\n",
      "Tier 2 Ministers of Religion                               1\n",
      "Government Authorised Exchange                             1\n",
      "Creative Worker                                            1\n",
      "Name: count, dtype: int64\u001b[0m\u001b[32;1m\u001b[1;3mI now know the final answer. I need to list the count of each type of route in Colchester.\n",
      "\n",
      "Final Answer: \n",
      "- Skilled Worker: 176\n",
      "- Global Business Mobility: Senior or Specialist Worker: 6\n",
      "- International Sportsperson: 4\n",
      "- Charity Worker: 1\n",
      "- Global Business Mobility: Graduate Trainee: 1\n",
      "- Tier 2 Ministers of Religion: 1\n",
      "- Government Authorised Exchange: 1\n",
      "- Creative Worker: 1\u001b[0m\n",
      "\n",
      "\u001b[1m> Finished chain.\u001b[0m\n"
     ]
    },
    {
     "data": {
      "text/plain": [
       "{'input': 'Find the count of each type of route in colchester',\n",
       " 'output': '- Skilled Worker: 176\\n- Global Business Mobility: Senior or Specialist Worker: 6\\n- International Sportsperson: 4\\n- Charity Worker: 1\\n- Global Business Mobility: Graduate Trainee: 1\\n- Tier 2 Ministers of Religion: 1\\n- Government Authorised Exchange: 1\\n- Creative Worker: 1'}"
      ]
     },
     "execution_count": 15,
     "metadata": {},
     "output_type": "execute_result"
    }
   ],
   "source": [
    "#Finding the count of each type of route in Colchester\n",
    "agentExecuter.invoke(\"Find the count of each type of route in colchester\")"
   ]
  },
  {
   "cell_type": "code",
   "execution_count": 16,
   "id": "8737f333-698c-4ec5-af14-0695aeefc457",
   "metadata": {},
   "outputs": [
    {
     "name": "stdout",
     "output_type": "stream",
     "text": [
      "\n",
      "\n",
      "\u001b[1m> Entering new AgentExecutor chain...\u001b[0m\n",
      "\u001b[32;1m\u001b[1;3mThought: We need to check if the organisation names contain the word \"care\" or \"care home\".\n",
      "Action: Use string methods to search for these keywords in the \"Organisation Name\" column.\n",
      "Action Input: df['Organisation Name'].str.contains('care|Care Home', case=False).sum()\u001b[0mUse string methods to search for these keywords in the \"Organisation Name\" column. is not a valid tool, try one of [python_repl_ast].\u001b[32;1m\u001b[1;3mI should use the python_repl_ast tool to find the number of organization names related to care or care homes.\n",
      "Action: python_repl_ast\n",
      "Action Input: df['Organisation Name'].str.contains('care|Care Home', case=False).sum()\u001b[0m\u001b[36;1m\u001b[1;3m6994\u001b[0m\u001b[32;1m\u001b[1;3mI now know the final answer\n",
      "Final Answer: There are 6994 organisation names related to care or care homes.\u001b[0m\n",
      "\n",
      "\u001b[1m> Finished chain.\u001b[0m\n"
     ]
    },
    {
     "data": {
      "text/plain": [
       "{'input': 'In organisation names, how many of them are related to care or care homes',\n",
       " 'output': 'There are 6994 organisation names related to care or care homes.'}"
      ]
     },
     "execution_count": 16,
     "metadata": {},
     "output_type": "execute_result"
    }
   ],
   "source": [
    "#Exploring care organisations\n",
    "agentExecuter.invoke(\"In organisation names, how many of them are related to care or care homes\")"
   ]
  },
  {
   "cell_type": "code",
   "execution_count": 23,
   "id": "146098ce-3beb-4ced-9d0d-ac14aaf6b0d3",
   "metadata": {},
   "outputs": [
    {
     "name": "stdout",
     "output_type": "stream",
     "text": [
      "\n",
      "\n",
      "\u001b[1m> Entering new AgentExecutor chain...\u001b[0m\n",
      "\u001b[32;1m\u001b[1;3mThought: We need to count the number of unique organisations that offer more than two types of routes.\n",
      "Action: Use the `groupby` and `nunique` functions to count the unique routes for each organisation.\n",
      "Action Input: python_repl_ast\n",
      "Action Input: df.groupby('Organisation Name')['Route'].nunique()\u001b[0mUse the `groupby` and `nunique` functions to count the unique routes for each organisation. is not a valid tool, try one of [python_repl_ast].\u001b[32;1m\u001b[1;3mI should use the `python_repl_ast` tool to execute the code snippet.\n",
      "Action: python_repl_ast\n",
      "Action Input: df.groupby('Organisation Name')['Route'].nunique()\u001b[0m\u001b[36;1m\u001b[1;3mOrganisation Name\n",
      " McMullan Shellfish                                      1\n",
      " RSS EXPRESS LTD T/A  Ledbury Fuel Service Station       1\n",
      "'O Ver St. James Ltd                                     1\n",
      "(IECC Care) Independent Excel Care Consortium Limited    1\n",
      "*ABOUTCARE HASTINGS LTD                                  1\n",
      "                                                        ..\n",
      "zayds phones ltd                                         1\n",
      "zeffirellis ltd                                          1\n",
      "zenith eco solutions                                     1\n",
      "zero height limited                                      1\n",
      "zgrp limited                                             1\n",
      "Name: Route, Length: 94298, dtype: int64\u001b[0m\u001b[32;1m\u001b[1;3mI need to filter the result to only include organisations that offer more than two types of routes.\n",
      "Action: Use the `value_counts` function to count the number of unique routes for each organisation and filter the result.\n",
      "Action Input: df.groupby('Organisation Name')['Route'].nunique().value_counts()\u001b[0mUse the `value_counts` function to count the number of unique routes for each organisation and filter the result. is not a valid tool, try one of [python_repl_ast].\u001b[32;1m\u001b[1;3mI should use the `python_repl_ast` tool to execute the code snippet.\n",
      "Action: python_repl_ast\n",
      "Action Input: df.groupby('Organisation Name')['Route'].nunique().value_counts()\u001b[0m\u001b[36;1m\u001b[1;3mRoute\n",
      "1    82850\n",
      "2    10226\n",
      "3     1096\n",
      "4      118\n",
      "5        8\n",
      "Name: count, dtype: int64\u001b[0m\u001b[32;1m\u001b[1;3mI now know the final answer by looking at the count of unique routes for each organization.\n",
      "Final Answer: There are 1,096 organizations that offer more than two types of routes.\u001b[0m\n",
      "\n",
      "\u001b[1m> Finished chain.\u001b[0m\n"
     ]
    },
    {
     "data": {
      "text/plain": [
       "{'input': 'How many organisations offer more than two type of routes?',\n",
       " 'output': 'There are 1,096 organizations that offer more than two types of routes.'}"
      ]
     },
     "execution_count": 23,
     "metadata": {},
     "output_type": "execute_result"
    }
   ],
   "source": [
    "#Exploring care organisations\n",
    "agentExecuter.invoke(\"How many organisations offer more than two type of routes?\")"
   ]
  },
  {
   "cell_type": "code",
   "execution_count": null,
   "id": "fdd0092b-3b8d-4fcb-829e-2d1469d48ce2",
   "metadata": {},
   "outputs": [],
   "source": []
  }
 ],
 "metadata": {
  "kernelspec": {
   "display_name": "Python 3 (ipykernel)",
   "language": "python",
   "name": "python3"
  },
  "language_info": {
   "codemirror_mode": {
    "name": "ipython",
    "version": 3
   },
   "file_extension": ".py",
   "mimetype": "text/x-python",
   "name": "python",
   "nbconvert_exporter": "python",
   "pygments_lexer": "ipython3",
   "version": "3.9.7"
  }
 },
 "nbformat": 4,
 "nbformat_minor": 5
}
